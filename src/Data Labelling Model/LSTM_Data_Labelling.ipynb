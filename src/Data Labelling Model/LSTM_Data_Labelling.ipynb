{
  "cells": [
    {
      "cell_type": "code",
      "source": [
        "#Importing required python packages"
      ],
      "metadata": {
        "id": "AH-LR1ASxAlQ"
      },
      "execution_count": 1,
      "outputs": []
    },
    {
      "cell_type": "code",
      "execution_count": null,
      "metadata": {
        "id": "1wfdF8-abN2d"
      },
      "outputs": [],
      "source": [
        "import pandas as pd"
      ]
    },
    {
      "cell_type": "code",
      "execution_count": null,
      "metadata": {
        "id": "vuKDxYjIb3Vh"
      },
      "outputs": [],
      "source": [
        "import numpy as np"
      ]
    },
    {
      "cell_type": "code",
      "execution_count": null,
      "metadata": {
        "id": "KtJlAZGOb8Sd"
      },
      "outputs": [],
      "source": [
        "from bs4 import BeautifulSoup"
      ]
    },
    {
      "cell_type": "code",
      "execution_count": null,
      "metadata": {
        "id": "YVI0Bp3kcAfz"
      },
      "outputs": [],
      "source": [
        "import pandas as pd\n",
        "import numpy as np\n",
        "from bs4 import BeautifulSoup\n",
        "import tensorflow as tf\n",
        "from tensorflow.keras import layers\n",
        "from tensorflow.keras.optimizers import Adam\n",
        "from tensorflow.keras.models import Model\n",
        "from tensorflow.keras.callbacks import ModelCheckpoint\n",
        "from keras.utils import np_utils\n",
        "from sklearn.preprocessing import LabelEncoder\n",
        "from tensorflow.keras.preprocessing import text\n",
        "from sklearn.metrics import classification_report"
      ]
    },
    {
      "cell_type": "code",
      "execution_count": null,
      "metadata": {
        "colab": {
          "base_uri": "https://localhost:8080/"
        },
        "id": "pcpeML4OcJX-",
        "outputId": "552e9768-071c-45ec-c7e4-9d42a7d195af"
      },
      "outputs": [
        {
          "output_type": "stream",
          "name": "stdout",
          "text": [
            "Collecting tokenizers\n",
            "  Downloading tokenizers-0.10.3-cp37-cp37m-manylinux_2_5_x86_64.manylinux1_x86_64.manylinux_2_12_x86_64.manylinux2010_x86_64.whl (3.3 MB)\n",
            "\u001b[K     |████████████████████████████████| 3.3 MB 6.3 MB/s \n",
            "\u001b[?25hInstalling collected packages: tokenizers\n",
            "Successfully installed tokenizers-0.10.3\n"
          ]
        }
      ],
      "source": [
        "!pip install tokenizers"
      ]
    },
    {
      "cell_type": "code",
      "execution_count": null,
      "metadata": {
        "id": "4vmKBAuicCkU"
      },
      "outputs": [],
      "source": [
        "from tqdm.notebook import tqdm\n",
        "from tokenizers import Tokenizer, models, pre_tokenizers, decoders, processors\n",
        "from tensorflow.keras.callbacks import ReduceLROnPlateau, EarlyStopping\n",
        "from sklearn.feature_extraction.text import CountVectorizer"
      ]
    },
    {
      "cell_type": "markdown",
      "source": [
        "Training Data:"
      ],
      "metadata": {
        "id": "i4m6bqXQrGDG"
      }
    },
    {
      "cell_type": "code",
      "source": [
        "#Loading 60k training dataset"
      ],
      "metadata": {
        "id": "-M9tdcTKxF7l"
      },
      "execution_count": 2,
      "outputs": []
    },
    {
      "cell_type": "code",
      "execution_count": null,
      "metadata": {
        "id": "3DauLGqjcgbM"
      },
      "outputs": [],
      "source": [
        "data = pd.read_csv('./data.csv') "
      ]
    },
    {
      "cell_type": "code",
      "execution_count": null,
      "metadata": {
        "colab": {
          "base_uri": "https://localhost:8080/",
          "height": 293
        },
        "id": "rEN5BpzLdy7U",
        "outputId": "03f07dbf-283a-45d7-a4ca-b187ceb4d1b8"
      },
      "outputs": [
        {
          "output_type": "execute_result",
          "data": {
            "text/html": [
              "<div>\n",
              "<style scoped>\n",
              "    .dataframe tbody tr th:only-of-type {\n",
              "        vertical-align: middle;\n",
              "    }\n",
              "\n",
              "    .dataframe tbody tr th {\n",
              "        vertical-align: top;\n",
              "    }\n",
              "\n",
              "    .dataframe thead th {\n",
              "        text-align: right;\n",
              "    }\n",
              "</style>\n",
              "<table border=\"1\" class=\"dataframe\">\n",
              "  <thead>\n",
              "    <tr style=\"text-align: right;\">\n",
              "      <th></th>\n",
              "      <th>Id</th>\n",
              "      <th>Title</th>\n",
              "      <th>Body</th>\n",
              "      <th>Tags</th>\n",
              "      <th>CreationDate</th>\n",
              "      <th>Y</th>\n",
              "    </tr>\n",
              "  </thead>\n",
              "  <tbody>\n",
              "    <tr>\n",
              "      <th>0</th>\n",
              "      <td>34552656</td>\n",
              "      <td>Java: Repeat Task Every Random Seconds</td>\n",
              "      <td>&lt;p&gt;I'm already familiar with repeating tasks e...</td>\n",
              "      <td>&lt;java&gt;&lt;repeat&gt;</td>\n",
              "      <td>2016-01-01 00:21:59</td>\n",
              "      <td>LQ_CLOSE</td>\n",
              "    </tr>\n",
              "    <tr>\n",
              "      <th>1</th>\n",
              "      <td>34552974</td>\n",
              "      <td>How to get all the child records from differen...</td>\n",
              "      <td>I am having 4 different tables like \\r\\nselect...</td>\n",
              "      <td>&lt;sql&gt;&lt;sql-server&gt;</td>\n",
              "      <td>2016-01-01 01:44:52</td>\n",
              "      <td>LQ_EDIT</td>\n",
              "    </tr>\n",
              "    <tr>\n",
              "      <th>2</th>\n",
              "      <td>34553034</td>\n",
              "      <td>Why are Java Optionals immutable?</td>\n",
              "      <td>&lt;p&gt;I'd like to understand why Java 8 Optionals...</td>\n",
              "      <td>&lt;java&gt;&lt;optional&gt;</td>\n",
              "      <td>2016-01-01 02:03:20</td>\n",
              "      <td>HQ</td>\n",
              "    </tr>\n",
              "    <tr>\n",
              "      <th>3</th>\n",
              "      <td>34553174</td>\n",
              "      <td>Text Overlay Image with Darkened Opacity React...</td>\n",
              "      <td>&lt;p&gt;I am attempting to overlay a title over an ...</td>\n",
              "      <td>&lt;javascript&gt;&lt;image&gt;&lt;overlay&gt;&lt;react-native&gt;&lt;opa...</td>\n",
              "      <td>2016-01-01 02:48:24</td>\n",
              "      <td>HQ</td>\n",
              "    </tr>\n",
              "    <tr>\n",
              "      <th>4</th>\n",
              "      <td>34553318</td>\n",
              "      <td>Why ternary operator in swift is so picky?</td>\n",
              "      <td>&lt;p&gt;The question is very simple, but I just cou...</td>\n",
              "      <td>&lt;swift&gt;&lt;operators&gt;&lt;whitespace&gt;&lt;ternary-operato...</td>\n",
              "      <td>2016-01-01 03:30:17</td>\n",
              "      <td>HQ</td>\n",
              "    </tr>\n",
              "  </tbody>\n",
              "</table>\n",
              "</div>"
            ],
            "text/plain": [
              "         Id  ...         Y\n",
              "0  34552656  ...  LQ_CLOSE\n",
              "1  34552974  ...   LQ_EDIT\n",
              "2  34553034  ...        HQ\n",
              "3  34553174  ...        HQ\n",
              "4  34553318  ...        HQ\n",
              "\n",
              "[5 rows x 6 columns]"
            ]
          },
          "metadata": {},
          "execution_count": 8
        }
      ],
      "source": [
        "data.head()"
      ]
    },
    {
      "cell_type": "code",
      "source": [
        "#Using beatiful soup to parse the text from the html format to text format"
      ],
      "metadata": {
        "id": "sJNny-DAxJdN"
      },
      "execution_count": 4,
      "outputs": []
    },
    {
      "cell_type": "code",
      "execution_count": null,
      "metadata": {
        "colab": {
          "base_uri": "https://localhost:8080/",
          "height": 310
        },
        "id": "TwrlEOFUd0nx",
        "outputId": "5a89fd1c-f3b7-4c87-b20e-886447bbd507"
      },
      "outputs": [
        {
          "output_type": "execute_result",
          "data": {
            "text/html": [
              "<div>\n",
              "<style scoped>\n",
              "    .dataframe tbody tr th:only-of-type {\n",
              "        vertical-align: middle;\n",
              "    }\n",
              "\n",
              "    .dataframe tbody tr th {\n",
              "        vertical-align: top;\n",
              "    }\n",
              "\n",
              "    .dataframe thead th {\n",
              "        text-align: right;\n",
              "    }\n",
              "</style>\n",
              "<table border=\"1\" class=\"dataframe\">\n",
              "  <thead>\n",
              "    <tr style=\"text-align: right;\">\n",
              "      <th></th>\n",
              "      <th>Id</th>\n",
              "      <th>Title</th>\n",
              "      <th>Body</th>\n",
              "      <th>Tags</th>\n",
              "      <th>CreationDate</th>\n",
              "      <th>Y</th>\n",
              "      <th>Text</th>\n",
              "    </tr>\n",
              "  </thead>\n",
              "  <tbody>\n",
              "    <tr>\n",
              "      <th>0</th>\n",
              "      <td>34552656</td>\n",
              "      <td>Java: Repeat Task Every Random Seconds</td>\n",
              "      <td>&lt;p&gt;I'm already familiar with repeating tasks e...</td>\n",
              "      <td>&lt;java&gt;&lt;repeat&gt;</td>\n",
              "      <td>2016-01-01 00:21:59</td>\n",
              "      <td>LQ_CLOSE</td>\n",
              "      <td>I'm already familiar with repeating tasks ever...</td>\n",
              "    </tr>\n",
              "    <tr>\n",
              "      <th>1</th>\n",
              "      <td>34552974</td>\n",
              "      <td>How to get all the child records from differen...</td>\n",
              "      <td>I am having 4 different tables like \\r\\nselect...</td>\n",
              "      <td>&lt;sql&gt;&lt;sql-server&gt;</td>\n",
              "      <td>2016-01-01 01:44:52</td>\n",
              "      <td>LQ_EDIT</td>\n",
              "      <td>I am having 4 different tables like \\r\\nselect...</td>\n",
              "    </tr>\n",
              "    <tr>\n",
              "      <th>2</th>\n",
              "      <td>34553034</td>\n",
              "      <td>Why are Java Optionals immutable?</td>\n",
              "      <td>&lt;p&gt;I'd like to understand why Java 8 Optionals...</td>\n",
              "      <td>&lt;java&gt;&lt;optional&gt;</td>\n",
              "      <td>2016-01-01 02:03:20</td>\n",
              "      <td>HQ</td>\n",
              "      <td>I'd like to understand why Java 8 Optionals we...</td>\n",
              "    </tr>\n",
              "    <tr>\n",
              "      <th>3</th>\n",
              "      <td>34553174</td>\n",
              "      <td>Text Overlay Image with Darkened Opacity React...</td>\n",
              "      <td>&lt;p&gt;I am attempting to overlay a title over an ...</td>\n",
              "      <td>&lt;javascript&gt;&lt;image&gt;&lt;overlay&gt;&lt;react-native&gt;&lt;opa...</td>\n",
              "      <td>2016-01-01 02:48:24</td>\n",
              "      <td>HQ</td>\n",
              "      <td>I am attempting to overlay a title over an ima...</td>\n",
              "    </tr>\n",
              "    <tr>\n",
              "      <th>4</th>\n",
              "      <td>34553318</td>\n",
              "      <td>Why ternary operator in swift is so picky?</td>\n",
              "      <td>&lt;p&gt;The question is very simple, but I just cou...</td>\n",
              "      <td>&lt;swift&gt;&lt;operators&gt;&lt;whitespace&gt;&lt;ternary-operato...</td>\n",
              "      <td>2016-01-01 03:30:17</td>\n",
              "      <td>HQ</td>\n",
              "      <td>The question is very simple, but I just could ...</td>\n",
              "    </tr>\n",
              "  </tbody>\n",
              "</table>\n",
              "</div>"
            ],
            "text/plain": [
              "         Id  ...                                               Text\n",
              "0  34552656  ...  I'm already familiar with repeating tasks ever...\n",
              "1  34552974  ...  I am having 4 different tables like \\r\\nselect...\n",
              "2  34553034  ...  I'd like to understand why Java 8 Optionals we...\n",
              "3  34553174  ...  I am attempting to overlay a title over an ima...\n",
              "4  34553318  ...  The question is very simple, but I just could ...\n",
              "\n",
              "[5 rows x 7 columns]"
            ]
          },
          "metadata": {},
          "execution_count": 9
        }
      ],
      "source": [
        "data['Text']=data.Body.apply(lambda x: BeautifulSoup(x, 'html.parser').text)\n",
        "data.head(5)"
      ]
    },
    {
      "cell_type": "code",
      "source": [
        "#Converting text to lower case"
      ],
      "metadata": {
        "id": "6pM7QnGdxQgJ"
      },
      "execution_count": 5,
      "outputs": []
    },
    {
      "cell_type": "code",
      "execution_count": null,
      "metadata": {
        "colab": {
          "base_uri": "https://localhost:8080/",
          "height": 310
        },
        "id": "lm0aNcGjd_LF",
        "outputId": "c8cca57c-1dc3-4c0e-c8c9-b4ce325b424e"
      },
      "outputs": [
        {
          "output_type": "execute_result",
          "data": {
            "text/html": [
              "<div>\n",
              "<style scoped>\n",
              "    .dataframe tbody tr th:only-of-type {\n",
              "        vertical-align: middle;\n",
              "    }\n",
              "\n",
              "    .dataframe tbody tr th {\n",
              "        vertical-align: top;\n",
              "    }\n",
              "\n",
              "    .dataframe thead th {\n",
              "        text-align: right;\n",
              "    }\n",
              "</style>\n",
              "<table border=\"1\" class=\"dataframe\">\n",
              "  <thead>\n",
              "    <tr style=\"text-align: right;\">\n",
              "      <th></th>\n",
              "      <th>Id</th>\n",
              "      <th>Title</th>\n",
              "      <th>Body</th>\n",
              "      <th>Tags</th>\n",
              "      <th>CreationDate</th>\n",
              "      <th>Y</th>\n",
              "      <th>Text</th>\n",
              "    </tr>\n",
              "  </thead>\n",
              "  <tbody>\n",
              "    <tr>\n",
              "      <th>0</th>\n",
              "      <td>34552656</td>\n",
              "      <td>Java: Repeat Task Every Random Seconds</td>\n",
              "      <td>&lt;p&gt;I'm already familiar with repeating tasks e...</td>\n",
              "      <td>&lt;java&gt;&lt;repeat&gt;</td>\n",
              "      <td>2016-01-01 00:21:59</td>\n",
              "      <td>LQ_CLOSE</td>\n",
              "      <td>i'm already familiar with repeating tasks ever...</td>\n",
              "    </tr>\n",
              "    <tr>\n",
              "      <th>1</th>\n",
              "      <td>34552974</td>\n",
              "      <td>How to get all the child records from differen...</td>\n",
              "      <td>I am having 4 different tables like \\r\\nselect...</td>\n",
              "      <td>&lt;sql&gt;&lt;sql-server&gt;</td>\n",
              "      <td>2016-01-01 01:44:52</td>\n",
              "      <td>LQ_EDIT</td>\n",
              "      <td>i am having 4 different tables like \\r\\nselect...</td>\n",
              "    </tr>\n",
              "    <tr>\n",
              "      <th>2</th>\n",
              "      <td>34553034</td>\n",
              "      <td>Why are Java Optionals immutable?</td>\n",
              "      <td>&lt;p&gt;I'd like to understand why Java 8 Optionals...</td>\n",
              "      <td>&lt;java&gt;&lt;optional&gt;</td>\n",
              "      <td>2016-01-01 02:03:20</td>\n",
              "      <td>HQ</td>\n",
              "      <td>i'd like to understand why java 8 optionals we...</td>\n",
              "    </tr>\n",
              "    <tr>\n",
              "      <th>3</th>\n",
              "      <td>34553174</td>\n",
              "      <td>Text Overlay Image with Darkened Opacity React...</td>\n",
              "      <td>&lt;p&gt;I am attempting to overlay a title over an ...</td>\n",
              "      <td>&lt;javascript&gt;&lt;image&gt;&lt;overlay&gt;&lt;react-native&gt;&lt;opa...</td>\n",
              "      <td>2016-01-01 02:48:24</td>\n",
              "      <td>HQ</td>\n",
              "      <td>i am attempting to overlay a title over an ima...</td>\n",
              "    </tr>\n",
              "    <tr>\n",
              "      <th>4</th>\n",
              "      <td>34553318</td>\n",
              "      <td>Why ternary operator in swift is so picky?</td>\n",
              "      <td>&lt;p&gt;The question is very simple, but I just cou...</td>\n",
              "      <td>&lt;swift&gt;&lt;operators&gt;&lt;whitespace&gt;&lt;ternary-operato...</td>\n",
              "      <td>2016-01-01 03:30:17</td>\n",
              "      <td>HQ</td>\n",
              "      <td>the question is very simple, but i just could ...</td>\n",
              "    </tr>\n",
              "  </tbody>\n",
              "</table>\n",
              "</div>"
            ],
            "text/plain": [
              "         Id  ...                                               Text\n",
              "0  34552656  ...  i'm already familiar with repeating tasks ever...\n",
              "1  34552974  ...  i am having 4 different tables like \\r\\nselect...\n",
              "2  34553034  ...  i'd like to understand why java 8 optionals we...\n",
              "3  34553174  ...  i am attempting to overlay a title over an ima...\n",
              "4  34553318  ...  the question is very simple, but i just could ...\n",
              "\n",
              "[5 rows x 7 columns]"
            ]
          },
          "metadata": {},
          "execution_count": 11
        }
      ],
      "source": [
        "data['Text']=data['Text'].str.lower()\n",
        "data.head(5)"
      ]
    },
    {
      "cell_type": "code",
      "execution_count": null,
      "metadata": {
        "id": "-l33GKTAeNWt"
      },
      "outputs": [],
      "source": [
        "MAX_FEATURES = 20000\n",
        "MAX_LEN = 200"
      ]
    },
    {
      "cell_type": "code",
      "source": [
        "# Initializing the tokenizer used on the text data for word embeddings layer of the neural network"
      ],
      "metadata": {
        "id": "MXXpcLq-xThE"
      },
      "execution_count": 6,
      "outputs": []
    },
    {
      "cell_type": "code",
      "execution_count": null,
      "metadata": {
        "id": "pOqFLyrelmFg"
      },
      "outputs": [],
      "source": [
        "X=data['Text'].values\n",
        "\n",
        "tokenizer = tf.keras.preprocessing.text.Tokenizer(num_words=MAX_FEATURES)\n",
        "tokenizer.fit_on_texts(X)\n",
        "sequences = tokenizer.texts_to_sequences(X)\n",
        "\n",
        "word_index = tokenizer.word_index"
      ]
    },
    {
      "cell_type": "markdown",
      "source": [
        "LSTM Model for Data Labelling:"
      ],
      "metadata": {
        "id": "2csdrhwErJap"
      }
    },
    {
      "cell_type": "code",
      "execution_count": null,
      "metadata": {
        "id": "Ni-uOyrBePL-"
      },
      "outputs": [],
      "source": [
        "from sklearn.model_selection import train_test_split\n",
        "train,validation=train_test_split(data,test_size=0.25, random_state=55)"
      ]
    },
    {
      "cell_type": "code",
      "execution_count": null,
      "metadata": {
        "id": "5KDY4Eo_eUO-"
      },
      "outputs": [],
      "source": [
        "EPOCHS = 25\n",
        "BATCH_SIZE = 24\n",
        "#MAX_LEN = 192"
      ]
    },
    {
      "cell_type": "code",
      "source": [
        "# Initializing the label encoder "
      ],
      "metadata": {
        "id": "Msqp0NqMxarW"
      },
      "execution_count": 7,
      "outputs": []
    },
    {
      "cell_type": "code",
      "execution_count": null,
      "metadata": {
        "id": "vWgfCW_yeV2s"
      },
      "outputs": [],
      "source": [
        "encoder = LabelEncoder()\n",
        "encoder.fit(data.Y.values)\n",
        "encoded_Y_train = encoder.transform(train.Y.values)\n",
        "encoded_Y_valid = encoder.transform(validation.Y.values)\n",
        "\n",
        "\n",
        "x_train = train.Text.values\n",
        "x_valid = validation.Text.values\n",
        "\n",
        "\n",
        "y_train = np_utils.to_categorical(encoded_Y_train)\n",
        "y_valid = np_utils.to_categorical(encoded_Y_valid)"
      ]
    },
    {
      "cell_type": "code",
      "execution_count": null,
      "metadata": {
        "id": "5hGwy0myeY1L"
      },
      "outputs": [],
      "source": [
        "tokens=text.Tokenizer(num_words=MAX_FEATURES, lower=True)\n",
        "tokens.fit_on_texts(list(x_train))"
      ]
    },
    {
      "cell_type": "code",
      "execution_count": null,
      "metadata": {
        "id": "3sw7psZRebUU"
      },
      "outputs": [],
      "source": [
        "x_train=tokens.texts_to_sequences(x_train)\n",
        "x_valid=tokens.texts_to_sequences(x_valid)\n",
        "\n",
        "\n",
        "x_train = tf.keras.preprocessing.sequence.pad_sequences(x_train, maxlen=MAX_LEN)\n",
        "x_valid = tf.keras.preprocessing.sequence.pad_sequences(x_valid, maxlen=MAX_LEN)"
      ]
    },
    {
      "cell_type": "code",
      "execution_count": null,
      "metadata": {
        "colab": {
          "base_uri": "https://localhost:8080/"
        },
        "id": "R-kEBeZBegWs",
        "outputId": "659e71af-b1d4-41f6-995b-fa195c68c036"
      },
      "outputs": [
        {
          "output_type": "stream",
          "name": "stdout",
          "text": [
            "Model: \"model\"\n",
            "_________________________________________________________________\n",
            " Layer (type)                Output Shape              Param #   \n",
            "=================================================================\n",
            " input_1 (InputLayer)        [(None, None)]            0         \n",
            "                                                                 \n",
            " embedding (Embedding)       (None, None, 128)         2560000   \n",
            "                                                                 \n",
            " bidirectional (Bidirectiona  (None, None, 128)        98816     \n",
            " l)                                                              \n",
            "                                                                 \n",
            " bidirectional_1 (Bidirectio  (None, 128)              98816     \n",
            " nal)                                                            \n",
            "                                                                 \n",
            " dense (Dense)               (None, 3)                 387       \n",
            "                                                                 \n",
            "=================================================================\n",
            "Total params: 2,758,019\n",
            "Trainable params: 2,758,019\n",
            "Non-trainable params: 0\n",
            "_________________________________________________________________\n"
          ]
        }
      ],
      "source": [
        "inputs = tf.keras.Input(shape=(None,), dtype=\"int32\")\n",
        "x = layers.Embedding(MAX_FEATURES, 128)(inputs)\n",
        "x = layers.Bidirectional(layers.LSTM(64, return_sequences=True))(x)\n",
        "x = layers.Bidirectional(layers.LSTM(64))(x)\n",
        "#x = layers.Flatten()(x)\n",
        "#x = layers.Dropout(0.5)(x)\n",
        "outputs = layers.Dense(3, activation=\"softmax\")(x)\n",
        "model = tf.keras.Model(inputs, outputs)\n",
        "model.summary()"
      ]
    },
    {
      "cell_type": "code",
      "execution_count": null,
      "metadata": {
        "id": "F7-UIXr2fCsG"
      },
      "outputs": [],
      "source": [
        "SGD=tf.keras.optimizers.SGD(learning_rate=0.01)\n",
        "model.compile(loss='categorical_crossentropy',optimizer=SGD,metrics=[tf.keras.metrics.AUC()])"
      ]
    },
    {
      "cell_type": "code",
      "execution_count": null,
      "metadata": {
        "id": "gKioK8bRejeW"
      },
      "outputs": [],
      "source": [
        "es_cb = EarlyStopping(monitor='val_loss', min_delta=0,  patience=10, verbose=0, mode='auto')\n",
        "reduce_lr = ReduceLROnPlateau(monitor='val_loss', factor=0.2, patience=5, min_lr=0.001)"
      ]
    },
    {
      "cell_type": "code",
      "source": [
        "#Training the model for 25 epochs"
      ],
      "metadata": {
        "id": "u2k6YSJQx0md"
      },
      "execution_count": 8,
      "outputs": []
    },
    {
      "cell_type": "code",
      "execution_count": null,
      "metadata": {
        "colab": {
          "base_uri": "https://localhost:8080/"
        },
        "id": "8kdylAqze9OQ",
        "outputId": "76238171-e651-4a82-84bc-b6ad6887b08c"
      },
      "outputs": [
        {
          "name": "stdout",
          "output_type": "stream",
          "text": [
            "Epoch 1/25\n",
            "1903/1903 [==============================] - 397s 203ms/step - loss: 0.9261 - auc: 0.7400 - val_loss: 0.6438 - val_auc: 0.8728 - lr: 0.0100\n",
            "Epoch 2/25\n",
            "1903/1903 [==============================] - 385s 202ms/step - loss: 0.6052 - auc: 0.8852 - val_loss: 0.5571 - val_auc: 0.9108 - lr: 0.0100\n",
            "Epoch 3/25\n",
            "1903/1903 [==============================] - 386s 203ms/step - loss: 0.5633 - auc: 0.9074 - val_loss: 0.6354 - val_auc: 0.8922 - lr: 0.0100\n",
            "Epoch 4/25\n",
            "1903/1903 [==============================] - 386s 203ms/step - loss: 0.5210 - auc: 0.9235 - val_loss: 0.7745 - val_auc: 0.8826 - lr: 0.0100\n",
            "Epoch 5/25\n",
            "1903/1903 [==============================] - 385s 202ms/step - loss: 0.4914 - auc: 0.9328 - val_loss: 0.5115 - val_auc: 0.9292 - lr: 0.0100\n",
            "Epoch 6/25\n",
            "1903/1903 [==============================] - 385s 202ms/step - loss: 0.4726 - auc: 0.9383 - val_loss: 0.4736 - val_auc: 0.9394 - lr: 0.0100\n",
            "Epoch 7/25\n",
            "1903/1903 [==============================] - 385s 202ms/step - loss: 0.4725 - auc: 0.9387 - val_loss: 0.4450 - val_auc: 0.9464 - lr: 0.0100\n",
            "Epoch 8/25\n",
            "1903/1903 [==============================] - 385s 202ms/step - loss: 0.4437 - auc: 0.9458 - val_loss: 0.4268 - val_auc: 0.9504 - lr: 0.0100\n",
            "Epoch 9/25\n",
            "1903/1903 [==============================] - 384s 202ms/step - loss: 0.4222 - auc: 0.9508 - val_loss: 0.4200 - val_auc: 0.9516 - lr: 0.0100\n",
            "Epoch 10/25\n",
            "1903/1903 [==============================] - 386s 203ms/step - loss: 0.4106 - auc: 0.9534 - val_loss: 0.4215 - val_auc: 0.9508 - lr: 0.0100\n",
            "Epoch 11/25\n",
            "1903/1903 [==============================] - 385s 202ms/step - loss: 0.4049 - auc: 0.9545 - val_loss: 0.4696 - val_auc: 0.9399 - lr: 0.0100\n",
            "Epoch 12/25\n",
            "1903/1903 [==============================] - 385s 203ms/step - loss: 0.4157 - auc: 0.9524 - val_loss: 0.4904 - val_auc: 0.9366 - lr: 0.0100\n",
            "Epoch 13/25\n",
            "1903/1903 [==============================] - 386s 203ms/step - loss: 0.4277 - auc: 0.9498 - val_loss: 0.4333 - val_auc: 0.9489 - lr: 0.0100\n",
            "Epoch 14/25\n",
            "1903/1903 [==============================] - 387s 204ms/step - loss: 0.4187 - auc: 0.9518 - val_loss: 0.4227 - val_auc: 0.9514 - lr: 0.0100\n",
            "Epoch 15/25\n",
            "1903/1903 [==============================] - 387s 204ms/step - loss: 0.3738 - auc: 0.9611 - val_loss: 0.4085 - val_auc: 0.9543 - lr: 0.0020\n",
            "Epoch 16/25\n",
            "1903/1903 [==============================] - 386s 203ms/step - loss: 0.3682 - auc: 0.9622 - val_loss: 0.4224 - val_auc: 0.9516 - lr: 0.0020\n",
            "Epoch 17/25\n",
            "1903/1903 [==============================] - 387s 203ms/step - loss: 0.3622 - auc: 0.9633 - val_loss: 0.4043 - val_auc: 0.9551 - lr: 0.0020\n",
            "Epoch 18/25\n",
            "1903/1903 [==============================] - 388s 204ms/step - loss: 0.3596 - auc: 0.9638 - val_loss: 0.4044 - val_auc: 0.9552 - lr: 0.0020\n",
            "Epoch 19/25\n",
            "1903/1903 [==============================] - 388s 204ms/step - loss: 0.3545 - auc: 0.9647 - val_loss: 0.4019 - val_auc: 0.9557 - lr: 0.0020\n",
            "Epoch 20/25\n",
            "1903/1903 [==============================] - 388s 204ms/step - loss: 0.3515 - auc: 0.9653 - val_loss: 0.3994 - val_auc: 0.9560 - lr: 0.0020\n",
            "Epoch 21/25\n",
            "1903/1903 [==============================] - 388s 204ms/step - loss: 0.3481 - auc: 0.9659 - val_loss: 0.3956 - val_auc: 0.9573 - lr: 0.0020\n",
            "Epoch 22/25\n",
            "1903/1903 [==============================] - 388s 204ms/step - loss: 0.3423 - auc: 0.9669 - val_loss: 0.3882 - val_auc: 0.9585 - lr: 0.0020\n",
            "Epoch 23/25\n",
            "1903/1903 [==============================] - 386s 203ms/step - loss: 0.3396 - auc: 0.9673 - val_loss: 0.4160 - val_auc: 0.9547 - lr: 0.0020\n",
            "Epoch 24/25\n",
            "1903/1903 [==============================] - 387s 203ms/step - loss: 0.3379 - auc: 0.9676 - val_loss: 0.3847 - val_auc: 0.9592 - lr: 0.0020\n",
            "Epoch 25/25\n",
            "1903/1903 [==============================] - 388s 204ms/step - loss: 0.3356 - auc: 0.9681 - val_loss: 0.4064 - val_auc: 0.9552 - lr: 0.0020\n"
          ]
        }
      ],
      "source": [
        "history = model.fit(x_train, y_train, batch_size=BATCH_SIZE, epochs=EPOCHS, validation_data=(x_valid, y_valid),callbacks = [es_cb,reduce_lr], verbose=1)"
      ]
    },
    {
      "cell_type": "code",
      "execution_count": null,
      "metadata": {
        "colab": {
          "base_uri": "https://localhost:8080/"
        },
        "id": "zXgUaOBQtXc3",
        "outputId": "2f2981fb-d436-47e6-f48b-5901db5ec9e3"
      },
      "outputs": [
        {
          "name": "stdout",
          "output_type": "stream",
          "text": [
            "Model: \"model_1\"\n",
            "_________________________________________________________________\n",
            " Layer (type)                Output Shape              Param #   \n",
            "=================================================================\n",
            " input_2 (InputLayer)        [(None, None)]            0         \n",
            "                                                                 \n",
            " embedding_1 (Embedding)     (None, None, 128)         2560000   \n",
            "                                                                 \n",
            " bidirectional_2 (Bidirectio  (None, None, 128)        98816     \n",
            " nal)                                                            \n",
            "                                                                 \n",
            " bidirectional_3 (Bidirectio  (None, 128)              98816     \n",
            " nal)                                                            \n",
            "                                                                 \n",
            " dense_1 (Dense)             (None, 3)                 387       \n",
            "                                                                 \n",
            "=================================================================\n",
            "Total params: 2,758,019\n",
            "Trainable params: 2,758,019\n",
            "Non-trainable params: 0\n",
            "_________________________________________________________________\n"
          ]
        }
      ],
      "source": [
        "model.summary()"
      ]
    },
    {
      "cell_type": "markdown",
      "source": [
        "Saving the model"
      ],
      "metadata": {
        "id": "JWuvmFvPx4Ue"
      }
    },
    {
      "cell_type": "code",
      "execution_count": null,
      "metadata": {
        "id": "q50xLmvk6BiT"
      },
      "outputs": [],
      "source": [
        "from google.colab import drive"
      ]
    },
    {
      "cell_type": "code",
      "execution_count": null,
      "metadata": {
        "id": "Orfk-ywV6C53"
      },
      "outputs": [],
      "source": [
        "my_data_dir=\"BDA\""
      ]
    },
    {
      "cell_type": "code",
      "execution_count": null,
      "metadata": {
        "colab": {
          "base_uri": "https://localhost:8080/"
        },
        "id": "Og2tnYEf68qA",
        "outputId": "853b5e71-1a62-4c3a-f8c0-5aab232c2b48"
      },
      "outputs": [
        {
          "output_type": "stream",
          "name": "stdout",
          "text": [
            "Mounted at /content/gdrive\n"
          ]
        }
      ],
      "source": [
        "drive.mount('/content/gdrive')"
      ]
    },
    {
      "cell_type": "code",
      "execution_count": null,
      "metadata": {
        "id": "3CfLVtxD7A_Y"
      },
      "outputs": [],
      "source": [
        "model.save(\"/content/gdrive/My Drive/BDA/model.h5\")"
      ]
    },
    {
      "cell_type": "code",
      "execution_count": null,
      "metadata": {
        "id": "z90YAo6175yh"
      },
      "outputs": [],
      "source": [
        "model.save_weights(\"/content/gdrive/My Drive/BDA/model_weights.h5\")"
      ]
    },
    {
      "cell_type": "code",
      "execution_count": null,
      "metadata": {
        "id": "UwNqcT997yUV"
      },
      "outputs": [],
      "source": [
        "model.load_weights(\"/content/gdrive/My Drive/BDA/model_weights.h5\")"
      ]
    },
    {
      "cell_type": "code",
      "execution_count": null,
      "metadata": {
        "id": "f4VfReme0R-3"
      },
      "outputs": [],
      "source": [
        "from keras.models import load_model"
      ]
    },
    {
      "cell_type": "code",
      "execution_count": null,
      "metadata": {
        "id": "eEzkxGC4zO5d"
      },
      "outputs": [],
      "source": [
        "model = load_model(\"/content/gdrive/My Drive/BDA/model.h5\")"
      ]
    },
    {
      "cell_type": "code",
      "execution_count": null,
      "metadata": {
        "colab": {
          "base_uri": "https://localhost:8080/"
        },
        "id": "tTqSyrttkUun",
        "outputId": "c371750d-8f70-401c-d0de-c39528495939"
      },
      "outputs": [
        {
          "output_type": "stream",
          "name": "stdout",
          "text": [
            "Collecting tokenizer\n",
            "  Downloading tokenizer-3.3.2-py2.py3-none-any.whl (77 kB)\n",
            "\u001b[?25l\r\u001b[K     |████▏                           | 10 kB 21.4 MB/s eta 0:00:01\r\u001b[K     |████████▍                       | 20 kB 26.2 MB/s eta 0:00:01\r\u001b[K     |████████████▋                   | 30 kB 16.8 MB/s eta 0:00:01\r\u001b[K     |████████████████▉               | 40 kB 13.9 MB/s eta 0:00:01\r\u001b[K     |█████████████████████           | 51 kB 7.3 MB/s eta 0:00:01\r\u001b[K     |█████████████████████████▎      | 61 kB 7.0 MB/s eta 0:00:01\r\u001b[K     |█████████████████████████████▌  | 71 kB 7.4 MB/s eta 0:00:01\r\u001b[K     |████████████████████████████████| 77 kB 4.1 MB/s \n",
            "\u001b[?25hInstalling collected packages: tokenizer\n",
            "Successfully installed tokenizer-3.3.2\n"
          ]
        }
      ],
      "source": [
        "!pip install tokenizer"
      ]
    },
    {
      "cell_type": "code",
      "execution_count": null,
      "metadata": {
        "id": "E8XWQPUwl98i"
      },
      "outputs": [],
      "source": [
        "df = pd.read_csv('./BDAtest.csv') "
      ]
    },
    {
      "cell_type": "code",
      "execution_count": null,
      "metadata": {
        "colab": {
          "base_uri": "https://localhost:8080/",
          "height": 293
        },
        "id": "yIlCBwJSow5X",
        "outputId": "bce4389d-fea5-4ef3-f2ea-a1dc1991009a"
      },
      "outputs": [
        {
          "output_type": "execute_result",
          "data": {
            "text/html": [
              "<div>\n",
              "<style scoped>\n",
              "    .dataframe tbody tr th:only-of-type {\n",
              "        vertical-align: middle;\n",
              "    }\n",
              "\n",
              "    .dataframe tbody tr th {\n",
              "        vertical-align: top;\n",
              "    }\n",
              "\n",
              "    .dataframe thead th {\n",
              "        text-align: right;\n",
              "    }\n",
              "</style>\n",
              "<table border=\"1\" class=\"dataframe\">\n",
              "  <thead>\n",
              "    <tr style=\"text-align: right;\">\n",
              "      <th></th>\n",
              "      <th>Unnamed: 0</th>\n",
              "      <th>Id</th>\n",
              "      <th>Body</th>\n",
              "      <th>Title</th>\n",
              "      <th>Tags</th>\n",
              "    </tr>\n",
              "  </thead>\n",
              "  <tbody>\n",
              "    <tr>\n",
              "      <th>0</th>\n",
              "      <td>0</td>\n",
              "      <td>4410447</td>\n",
              "      <td>&lt;p&gt;I'm considering several options for sandbox...</td>\n",
              "      <td>How to disable socket creation for a Linux pro...</td>\n",
              "      <td>&lt;linux&gt;&lt;sockets&gt;&lt;sandbox&gt;</td>\n",
              "    </tr>\n",
              "    <tr>\n",
              "      <th>1</th>\n",
              "      <td>1</td>\n",
              "      <td>3174358</td>\n",
              "      <td>&lt;p&gt;the code I'm dealing with has loops like th...</td>\n",
              "      <td>MATLAB parfor is slower than for -- what is wr...</td>\n",
              "      <td>&lt;performance&gt;&lt;matlab&gt;&lt;parallel-processing&gt;&lt;par...</td>\n",
              "    </tr>\n",
              "    <tr>\n",
              "      <th>2</th>\n",
              "      <td>2</td>\n",
              "      <td>15459837</td>\n",
              "      <td>&lt;p&gt;I want to copy a file to a server using &lt;co...</td>\n",
              "      <td>How to get the basename of the current folder ...</td>\n",
              "      <td>&lt;makefile&gt;&lt;directory&gt;</td>\n",
              "    </tr>\n",
              "    <tr>\n",
              "      <th>3</th>\n",
              "      <td>3</td>\n",
              "      <td>5144288</td>\n",
              "      <td>&lt;p&gt;We have a huge project with many submodules...</td>\n",
              "      <td>how to time (profile) maven goals in a multi-m...</td>\n",
              "      <td>&lt;performance&gt;&lt;maven-2&gt;&lt;build-process&gt;&lt;profilin...</td>\n",
              "    </tr>\n",
              "    <tr>\n",
              "      <th>4</th>\n",
              "      <td>4</td>\n",
              "      <td>4174832</td>\n",
              "      <td>&lt;p&gt;I am trying to design a view using asp.net ...</td>\n",
              "      <td>How to open .cshtml in designer view?</td>\n",
              "      <td>&lt;views&gt;&lt;asp.net-mvc-3&gt;</td>\n",
              "    </tr>\n",
              "  </tbody>\n",
              "</table>\n",
              "</div>"
            ],
            "text/plain": [
              "   Unnamed: 0  ...                                               Tags\n",
              "0           0  ...                          <linux><sockets><sandbox>\n",
              "1           1  ...  <performance><matlab><parallel-processing><par...\n",
              "2           2  ...                              <makefile><directory>\n",
              "3           3  ...  <performance><maven-2><build-process><profilin...\n",
              "4           4  ...                             <views><asp.net-mvc-3>\n",
              "\n",
              "[5 rows x 5 columns]"
            ]
          },
          "metadata": {},
          "execution_count": 34
        }
      ],
      "source": [
        "df.head()"
      ]
    },
    {
      "cell_type": "code",
      "execution_count": null,
      "metadata": {
        "id": "2Mbi2vP3o6fi"
      },
      "outputs": [],
      "source": [
        "df[\"Body\"] = df.Body.astype(str)"
      ]
    },
    {
      "cell_type": "code",
      "execution_count": null,
      "metadata": {
        "colab": {
          "base_uri": "https://localhost:8080/",
          "height": 310
        },
        "id": "HHgl3CynoySx",
        "outputId": "b3d9fa42-be71-4ca6-ab9f-321d0e7d5876"
      },
      "outputs": [
        {
          "output_type": "execute_result",
          "data": {
            "text/html": [
              "<div>\n",
              "<style scoped>\n",
              "    .dataframe tbody tr th:only-of-type {\n",
              "        vertical-align: middle;\n",
              "    }\n",
              "\n",
              "    .dataframe tbody tr th {\n",
              "        vertical-align: top;\n",
              "    }\n",
              "\n",
              "    .dataframe thead th {\n",
              "        text-align: right;\n",
              "    }\n",
              "</style>\n",
              "<table border=\"1\" class=\"dataframe\">\n",
              "  <thead>\n",
              "    <tr style=\"text-align: right;\">\n",
              "      <th></th>\n",
              "      <th>Unnamed: 0</th>\n",
              "      <th>Id</th>\n",
              "      <th>Body</th>\n",
              "      <th>Title</th>\n",
              "      <th>Tags</th>\n",
              "      <th>Text</th>\n",
              "    </tr>\n",
              "  </thead>\n",
              "  <tbody>\n",
              "    <tr>\n",
              "      <th>0</th>\n",
              "      <td>0</td>\n",
              "      <td>4410447</td>\n",
              "      <td>&lt;p&gt;I'm considering several options for sandbox...</td>\n",
              "      <td>How to disable socket creation for a Linux pro...</td>\n",
              "      <td>&lt;linux&gt;&lt;sockets&gt;&lt;sandbox&gt;</td>\n",
              "      <td>I'm considering several options for sandboxing...</td>\n",
              "    </tr>\n",
              "    <tr>\n",
              "      <th>1</th>\n",
              "      <td>1</td>\n",
              "      <td>3174358</td>\n",
              "      <td>&lt;p&gt;the code I'm dealing with has loops like th...</td>\n",
              "      <td>MATLAB parfor is slower than for -- what is wr...</td>\n",
              "      <td>&lt;performance&gt;&lt;matlab&gt;&lt;parallel-processing&gt;&lt;par...</td>\n",
              "      <td>the code I'm dealing with has loops like the f...</td>\n",
              "    </tr>\n",
              "    <tr>\n",
              "      <th>2</th>\n",
              "      <td>2</td>\n",
              "      <td>15459837</td>\n",
              "      <td>&lt;p&gt;I want to copy a file to a server using &lt;co...</td>\n",
              "      <td>How to get the basename of the current folder ...</td>\n",
              "      <td>&lt;makefile&gt;&lt;directory&gt;</td>\n",
              "      <td>I want to copy a file to a server using scp. B...</td>\n",
              "    </tr>\n",
              "    <tr>\n",
              "      <th>3</th>\n",
              "      <td>3</td>\n",
              "      <td>5144288</td>\n",
              "      <td>&lt;p&gt;We have a huge project with many submodules...</td>\n",
              "      <td>how to time (profile) maven goals in a multi-m...</td>\n",
              "      <td>&lt;performance&gt;&lt;maven-2&gt;&lt;build-process&gt;&lt;profilin...</td>\n",
              "      <td>We have a huge project with many submodules. A...</td>\n",
              "    </tr>\n",
              "    <tr>\n",
              "      <th>4</th>\n",
              "      <td>4</td>\n",
              "      <td>4174832</td>\n",
              "      <td>&lt;p&gt;I am trying to design a view using asp.net ...</td>\n",
              "      <td>How to open .cshtml in designer view?</td>\n",
              "      <td>&lt;views&gt;&lt;asp.net-mvc-3&gt;</td>\n",
              "      <td>I am trying to design a view using asp.net mvc...</td>\n",
              "    </tr>\n",
              "  </tbody>\n",
              "</table>\n",
              "</div>"
            ],
            "text/plain": [
              "   Unnamed: 0  ...                                               Text\n",
              "0           0  ...  I'm considering several options for sandboxing...\n",
              "1           1  ...  the code I'm dealing with has loops like the f...\n",
              "2           2  ...  I want to copy a file to a server using scp. B...\n",
              "3           3  ...  We have a huge project with many submodules. A...\n",
              "4           4  ...  I am trying to design a view using asp.net mvc...\n",
              "\n",
              "[5 rows x 6 columns]"
            ]
          },
          "metadata": {},
          "execution_count": 36
        }
      ],
      "source": [
        "df['Text']=df.Body.apply(lambda x: BeautifulSoup(x, 'html.parser').text)\n",
        "df.head(5)"
      ]
    },
    {
      "cell_type": "code",
      "execution_count": null,
      "metadata": {
        "colab": {
          "base_uri": "https://localhost:8080/"
        },
        "id": "JHOioAX3quUx",
        "outputId": "9311bc62-0e75-4d41-8b7a-93a3981d8780"
      },
      "outputs": [
        {
          "output_type": "stream",
          "name": "stdout",
          "text": [
            "1 LQ_CLOSE\n"
          ]
        }
      ],
      "source": [
        "labels=list(encoder.classes_)\n",
        "print(np.argmax(pred), labels[np.argmax(pred)])"
      ]
    },
    {
      "cell_type": "code",
      "execution_count": null,
      "metadata": {
        "colab": {
          "base_uri": "https://localhost:8080/"
        },
        "id": "riP8bGGgrwlr",
        "outputId": "04683635-0f46-4a72-bfc4-b7357a43ecc1"
      },
      "outputs": [
        {
          "output_type": "stream",
          "name": "stdout",
          "text": [
            "0 HQ\n",
            "1 LQ_CLOSE\n",
            "1 LQ_CLOSE\n",
            "1 LQ_CLOSE\n",
            "1 LQ_CLOSE\n",
            "0 HQ\n",
            "1 LQ_CLOSE\n",
            "1 LQ_CLOSE\n",
            "1 LQ_CLOSE\n",
            "1 LQ_CLOSE\n"
          ]
        }
      ],
      "source": [
        "for i in range(0,10):\n",
        "  test_question = []\n",
        "  test_question.append(df[\"Body\"][i])\n",
        "  seq = tokenizer.texts_to_sequences(test_question)\n",
        "  padded = tf.keras.preprocessing.sequence.pad_sequences(seq, maxlen=MAX_LEN)\n",
        "  pred = model.predict(padded)\n",
        "  labels=list(encoder.classes_)\n",
        "  print(np.argmax(pred), labels[np.argmax(pred)])\n"
      ]
    },
    {
      "cell_type": "markdown",
      "source": [
        "Labeling the Data\n"
      ],
      "metadata": {
        "id": "c61l-KeyB0Cg"
      }
    },
    {
      "cell_type": "code",
      "execution_count": null,
      "metadata": {
        "id": "wqnIdebasVqt"
      },
      "outputs": [],
      "source": [
        "df1 = pd.read_csv(\"./ld0.csv\")"
      ]
    },
    {
      "cell_type": "code",
      "source": [
        "df1 = df1.dropna(axis=0, subset=['Body'])"
      ],
      "metadata": {
        "id": "fRVsUh_LrEWB"
      },
      "execution_count": null,
      "outputs": []
    },
    {
      "cell_type": "code",
      "source": [
        "df1.head()"
      ],
      "metadata": {
        "colab": {
          "base_uri": "https://localhost:8080/",
          "height": 625
        },
        "id": "Q42aUWRnrJkW",
        "outputId": "a5e61d46-9959-4979-dd20-06c193be73c1"
      },
      "execution_count": null,
      "outputs": [
        {
          "output_type": "execute_result",
          "data": {
            "text/html": [
              "<div>\n",
              "<style scoped>\n",
              "    .dataframe tbody tr th:only-of-type {\n",
              "        vertical-align: middle;\n",
              "    }\n",
              "\n",
              "    .dataframe tbody tr th {\n",
              "        vertical-align: top;\n",
              "    }\n",
              "\n",
              "    .dataframe thead th {\n",
              "        text-align: right;\n",
              "    }\n",
              "</style>\n",
              "<table border=\"1\" class=\"dataframe\">\n",
              "  <thead>\n",
              "    <tr style=\"text-align: right;\">\n",
              "      <th></th>\n",
              "      <th>Id</th>\n",
              "      <th>PostTypeId</th>\n",
              "      <th>AcceptedAnswerId</th>\n",
              "      <th>ParentId</th>\n",
              "      <th>CreationDate</th>\n",
              "      <th>DeletionDate</th>\n",
              "      <th>Score</th>\n",
              "      <th>ViewCount</th>\n",
              "      <th>Body</th>\n",
              "      <th>OwnerUserId</th>\n",
              "      <th>OwnerDisplayName</th>\n",
              "      <th>LastEditorUserId</th>\n",
              "      <th>LastEditorDisplayName</th>\n",
              "      <th>LastEditDate</th>\n",
              "      <th>LastActivityDate</th>\n",
              "      <th>Title</th>\n",
              "      <th>Tags</th>\n",
              "      <th>AnswerCount</th>\n",
              "      <th>CommentCount</th>\n",
              "      <th>FavoriteCount</th>\n",
              "      <th>ClosedDate</th>\n",
              "      <th>CommunityOwnedDate</th>\n",
              "      <th>Id_1</th>\n",
              "      <th>Reputation</th>\n",
              "      <th>Views</th>\n",
              "      <th>UpVotes</th>\n",
              "      <th>DownVotes</th>\n",
              "    </tr>\n",
              "  </thead>\n",
              "  <tbody>\n",
              "    <tr>\n",
              "      <th>0</th>\n",
              "      <td>20309269</td>\n",
              "      <td>1</td>\n",
              "      <td>20309302.0</td>\n",
              "      <td>NaN</td>\n",
              "      <td>2013-12-01 06:08:27</td>\n",
              "      <td>NaN</td>\n",
              "      <td>6</td>\n",
              "      <td>28024.0</td>\n",
              "      <td>&lt;p&gt;I have the following piece of code which &lt;s...</td>\n",
              "      <td>3053813</td>\n",
              "      <td>NaN</td>\n",
              "      <td>2316200.0</td>\n",
              "      <td>NaN</td>\n",
              "      <td>2013-12-01 07:06:35</td>\n",
              "      <td>2020-11-05 17:27:21</td>\n",
              "      <td>check if string exists in a file</td>\n",
              "      <td>&lt;c#&gt;&lt;string&gt;&lt;streamreader&gt;</td>\n",
              "      <td>7.0</td>\n",
              "      <td>0</td>\n",
              "      <td>4.0</td>\n",
              "      <td>NaN</td>\n",
              "      <td>NaN</td>\n",
              "      <td>3053813</td>\n",
              "      <td>63</td>\n",
              "      <td>7</td>\n",
              "      <td>0</td>\n",
              "      <td>0</td>\n",
              "    </tr>\n",
              "    <tr>\n",
              "      <th>1</th>\n",
              "      <td>8000009</td>\n",
              "      <td>1</td>\n",
              "      <td>NaN</td>\n",
              "      <td>NaN</td>\n",
              "      <td>2011-11-03 18:25:24</td>\n",
              "      <td>NaN</td>\n",
              "      <td>21</td>\n",
              "      <td>24535.0</td>\n",
              "      <td>&lt;p&gt;I'm trying to write handler for uncaught ex...</td>\n",
              "      <td>605808</td>\n",
              "      <td>NaN</td>\n",
              "      <td>4370109.0</td>\n",
              "      <td>NaN</td>\n",
              "      <td>2019-05-05 22:34:53</td>\n",
              "      <td>2019-05-05 22:34:53</td>\n",
              "      <td>Is there a way in JavaScript to listen console...</td>\n",
              "      <td>&lt;javascript&gt;&lt;browser&gt;&lt;cross-browser&gt;&lt;dom-events&gt;</td>\n",
              "      <td>6.0</td>\n",
              "      <td>1</td>\n",
              "      <td>9.0</td>\n",
              "      <td>NaN</td>\n",
              "      <td>NaN</td>\n",
              "      <td>605808</td>\n",
              "      <td>5228</td>\n",
              "      <td>404</td>\n",
              "      <td>297</td>\n",
              "      <td>8</td>\n",
              "    </tr>\n",
              "    <tr>\n",
              "      <th>2</th>\n",
              "      <td>2560817</td>\n",
              "      <td>1</td>\n",
              "      <td>2561077.0</td>\n",
              "      <td>NaN</td>\n",
              "      <td>2010-04-01 13:52:12</td>\n",
              "      <td>NaN</td>\n",
              "      <td>12</td>\n",
              "      <td>4611.0</td>\n",
              "      <td>&lt;p&gt;I'm implementing a 2D game with ships in sp...</td>\n",
              "      <td>312586</td>\n",
              "      <td>NaN</td>\n",
              "      <td>1491.0</td>\n",
              "      <td>NaN</td>\n",
              "      <td>2010-09-28 19:09:30</td>\n",
              "      <td>2010-09-28 19:09:30</td>\n",
              "      <td>2d trajectory planning of a spaceship with phy...</td>\n",
              "      <td>&lt;lua&gt;&lt;2d&gt;&lt;physics&gt;&lt;box2d&gt;</td>\n",
              "      <td>6.0</td>\n",
              "      <td>13</td>\n",
              "      <td>13.0</td>\n",
              "      <td>NaN</td>\n",
              "      <td>NaN</td>\n",
              "      <td>312586</td>\n",
              "      <td>47928</td>\n",
              "      <td>2490</td>\n",
              "      <td>1270</td>\n",
              "      <td>287</td>\n",
              "    </tr>\n",
              "    <tr>\n",
              "      <th>3</th>\n",
              "      <td>9103059</td>\n",
              "      <td>1</td>\n",
              "      <td>9103096.0</td>\n",
              "      <td>NaN</td>\n",
              "      <td>2012-02-01 20:43:03</td>\n",
              "      <td>NaN</td>\n",
              "      <td>1</td>\n",
              "      <td>122.0</td>\n",
              "      <td>&lt;p&gt;I'm going through a book on Java and I've b...</td>\n",
              "      <td>261355</td>\n",
              "      <td>NaN</td>\n",
              "      <td>NaN</td>\n",
              "      <td>NaN</td>\n",
              "      <td>NaN</td>\n",
              "      <td>2012-02-01 20:54:48</td>\n",
              "      <td>Learning Java—Confused About Some Code</td>\n",
              "      <td>&lt;java&gt;</td>\n",
              "      <td>7.0</td>\n",
              "      <td>0</td>\n",
              "      <td>NaN</td>\n",
              "      <td>NaN</td>\n",
              "      <td>NaN</td>\n",
              "      <td>261355</td>\n",
              "      <td>2061</td>\n",
              "      <td>133</td>\n",
              "      <td>98</td>\n",
              "      <td>0</td>\n",
              "    </tr>\n",
              "    <tr>\n",
              "      <th>4</th>\n",
              "      <td>2382927</td>\n",
              "      <td>1</td>\n",
              "      <td>2383252.0</td>\n",
              "      <td>NaN</td>\n",
              "      <td>2010-03-04 21:43:29</td>\n",
              "      <td>NaN</td>\n",
              "      <td>30</td>\n",
              "      <td>31356.0</td>\n",
              "      <td>&lt;p&gt;I'm running into some problems using my .NE...</td>\n",
              "      <td>5678</td>\n",
              "      <td>NaN</td>\n",
              "      <td>5678.0</td>\n",
              "      <td>NaN</td>\n",
              "      <td>2010-03-08 15:55:57</td>\n",
              "      <td>2015-06-17 03:14:17</td>\n",
              "      <td>Can I use a .NET 4.0 library in a .NET 2.0 app...</td>\n",
              "      <td>&lt;dll&gt;&lt;.net-2.0&gt;&lt;.net-4.0&gt;</td>\n",
              "      <td>7.0</td>\n",
              "      <td>2</td>\n",
              "      <td>12.0</td>\n",
              "      <td>NaN</td>\n",
              "      <td>NaN</td>\n",
              "      <td>5678</td>\n",
              "      <td>4432</td>\n",
              "      <td>1023</td>\n",
              "      <td>139</td>\n",
              "      <td>7</td>\n",
              "    </tr>\n",
              "  </tbody>\n",
              "</table>\n",
              "</div>"
            ],
            "text/plain": [
              "         Id  PostTypeId  AcceptedAnswerId  ...  Views UpVotes  DownVotes\n",
              "0  20309269           1        20309302.0  ...      7       0          0\n",
              "1   8000009           1               NaN  ...    404     297          8\n",
              "2   2560817           1         2561077.0  ...   2490    1270        287\n",
              "3   9103059           1         9103096.0  ...    133      98          0\n",
              "4   2382927           1         2383252.0  ...   1023     139          7\n",
              "\n",
              "[5 rows x 27 columns]"
            ]
          },
          "metadata": {},
          "execution_count": 39
        }
      ]
    },
    {
      "cell_type": "code",
      "source": [
        "df5[\"Body\"].isna().values.any()"
      ],
      "metadata": {
        "colab": {
          "base_uri": "https://localhost:8080/"
        },
        "id": "YhD32n9HrJad",
        "outputId": "70150665-fc01-45c6-bb47-009c65974247"
      },
      "execution_count": null,
      "outputs": [
        {
          "output_type": "execute_result",
          "data": {
            "text/plain": [
              "False"
            ]
          },
          "metadata": {},
          "execution_count": 33
        }
      ]
    },
    {
      "cell_type": "code",
      "source": [
        "df1 = pd.read_csv(\"./ld1.csv\")"
      ],
      "metadata": {
        "id": "sdFWrOM9qWC6"
      },
      "execution_count": null,
      "outputs": []
    },
    {
      "cell_type": "code",
      "source": [
        "df2 = pd.read_csv(\"./ld2.csv\")"
      ],
      "metadata": {
        "id": "pfSo5FdcqWT0"
      },
      "execution_count": null,
      "outputs": []
    },
    {
      "cell_type": "code",
      "source": [
        "df3 = pd.read_csv(\"./ld3.csv\")"
      ],
      "metadata": {
        "id": "MgY4r9meqWXB"
      },
      "execution_count": null,
      "outputs": []
    },
    {
      "cell_type": "code",
      "source": [
        "df4 = pd.read_csv(\"./ld4.csv\")"
      ],
      "metadata": {
        "id": "IYzo-zgYqWZ5"
      },
      "execution_count": null,
      "outputs": []
    },
    {
      "cell_type": "code",
      "source": [
        "df5 = pd.read_csv(\"./ld5.csv\")"
      ],
      "metadata": {
        "id": "en-nSxu1qepA"
      },
      "execution_count": null,
      "outputs": []
    },
    {
      "cell_type": "code",
      "source": [
        "frames = [df2, df3, df4, df5]"
      ],
      "metadata": {
        "id": "X5v90vSAruNX"
      },
      "execution_count": null,
      "outputs": []
    },
    {
      "cell_type": "code",
      "source": [
        "result = pd.concat(frames)"
      ],
      "metadata": {
        "id": "Feo-A-55r2iS"
      },
      "execution_count": null,
      "outputs": []
    },
    {
      "cell_type": "code",
      "source": [
        "len(df5)"
      ],
      "metadata": {
        "colab": {
          "base_uri": "https://localhost:8080/"
        },
        "id": "HrSM9w1ar-cE",
        "outputId": "c58d0131-d35a-4b8a-e26f-5e88d2bafe98"
      },
      "execution_count": null,
      "outputs": [
        {
          "output_type": "execute_result",
          "data": {
            "text/plain": [
              "100049"
            ]
          },
          "metadata": {},
          "execution_count": 34
        }
      ]
    },
    {
      "cell_type": "code",
      "source": [
        "df5[\"Body\"].isna().sum()"
      ],
      "metadata": {
        "colab": {
          "base_uri": "https://localhost:8080/"
        },
        "id": "3N8UdFH43MRa",
        "outputId": "72906be0-9eac-49a2-afe7-27541118623d"
      },
      "execution_count": null,
      "outputs": [
        {
          "output_type": "execute_result",
          "data": {
            "text/plain": [
              "0"
            ]
          },
          "metadata": {},
          "execution_count": 35
        }
      ]
    },
    {
      "cell_type": "code",
      "source": [
        "df4.drop(['PostTypeId','ParentId','CreationDate', 'DeletionDate', 'OwnerDisplayName', 'LastEditorUserId', 'LastEditorDisplayName', 'LastEditDate', 'LastActivityDate', 'ClosedDate', 'CommunityOwnedDate', 'Id_1'], axis=1, inplace = True)"
      ],
      "metadata": {
        "id": "rUgyYo2nsClq"
      },
      "execution_count": null,
      "outputs": []
    },
    {
      "cell_type": "code",
      "source": [
        "df5[\"Quality\"] = \"\""
      ],
      "metadata": {
        "id": "nKY5EQarCZZS"
      },
      "execution_count": null,
      "outputs": []
    },
    {
      "cell_type": "code",
      "source": [
        "df5 = df5.dropna(axis=0, subset=['Body'])"
      ],
      "metadata": {
        "id": "a9ssYtRiZeTC"
      },
      "execution_count": null,
      "outputs": []
    },
    {
      "cell_type": "code",
      "source": [
        "df5['Body'] = df5.Body.astype(str)"
      ],
      "metadata": {
        "id": "r69I-LsEsavS"
      },
      "execution_count": null,
      "outputs": []
    },
    {
      "cell_type": "code",
      "source": [
        "df5['Text']= df5.Body.apply(lambda x: BeautifulSoup(x, 'html.parser').text)\n",
        "df5.head(5)"
      ],
      "metadata": {
        "colab": {
          "base_uri": "https://localhost:8080/",
          "height": 521
        },
        "id": "4QP_bvSaCn7V",
        "outputId": "90d20164-7b71-478b-8e62-77aeed737e7c"
      },
      "execution_count": null,
      "outputs": [
        {
          "output_type": "execute_result",
          "data": {
            "text/html": [
              "<div>\n",
              "<style scoped>\n",
              "    .dataframe tbody tr th:only-of-type {\n",
              "        vertical-align: middle;\n",
              "    }\n",
              "\n",
              "    .dataframe tbody tr th {\n",
              "        vertical-align: top;\n",
              "    }\n",
              "\n",
              "    .dataframe thead th {\n",
              "        text-align: right;\n",
              "    }\n",
              "</style>\n",
              "<table border=\"1\" class=\"dataframe\">\n",
              "  <thead>\n",
              "    <tr style=\"text-align: right;\">\n",
              "      <th></th>\n",
              "      <th>Id</th>\n",
              "      <th>PostTypeId</th>\n",
              "      <th>AcceptedAnswerId</th>\n",
              "      <th>ParentId</th>\n",
              "      <th>CreationDate</th>\n",
              "      <th>DeletionDate</th>\n",
              "      <th>Score</th>\n",
              "      <th>ViewCount</th>\n",
              "      <th>Body</th>\n",
              "      <th>OwnerUserId</th>\n",
              "      <th>OwnerDisplayName</th>\n",
              "      <th>LastEditorUserId</th>\n",
              "      <th>LastEditorDisplayName</th>\n",
              "      <th>LastEditDate</th>\n",
              "      <th>LastActivityDate</th>\n",
              "      <th>Title</th>\n",
              "      <th>Tags</th>\n",
              "      <th>AnswerCount</th>\n",
              "      <th>CommentCount</th>\n",
              "      <th>FavoriteCount</th>\n",
              "      <th>ClosedDate</th>\n",
              "      <th>CommunityOwnedDate</th>\n",
              "      <th>Id_1</th>\n",
              "      <th>Reputation</th>\n",
              "      <th>Views</th>\n",
              "      <th>UpVotes</th>\n",
              "      <th>DownVotes</th>\n",
              "      <th>Quality</th>\n",
              "      <th>Text</th>\n",
              "    </tr>\n",
              "  </thead>\n",
              "  <tbody>\n",
              "    <tr>\n",
              "      <th>0</th>\n",
              "      <td>8019330</td>\n",
              "      <td>1</td>\n",
              "      <td>8019355.0</td>\n",
              "      <td>NaN</td>\n",
              "      <td>2011-11-05 09:35:01</td>\n",
              "      <td>NaN</td>\n",
              "      <td>-1</td>\n",
              "      <td>246.0</td>\n",
              "      <td>&lt;p&gt;My lines:&lt;/p&gt;\\n\\n&lt;pre&gt;&lt;code&gt;ABC: XYZ\\nXYZ A...</td>\n",
              "      <td>935420</td>\n",
              "      <td>NaN</td>\n",
              "      <td>100754.0</td>\n",
              "      <td>NaN</td>\n",
              "      <td>2011-11-05 13:41:37</td>\n",
              "      <td>2011-11-07 12:49:32</td>\n",
              "      <td>In Perl, how can I join an input line with the...</td>\n",
              "      <td>&lt;perl&gt;</td>\n",
              "      <td>6.0</td>\n",
              "      <td>4</td>\n",
              "      <td>NaN</td>\n",
              "      <td>NaN</td>\n",
              "      <td>NaN</td>\n",
              "      <td>935420</td>\n",
              "      <td>103</td>\n",
              "      <td>31</td>\n",
              "      <td>0</td>\n",
              "      <td>0</td>\n",
              "      <td></td>\n",
              "      <td>My lines:\\nABC: XYZ\\nXYZ ABC: XYZ\\nXYZ:\\nABC\\n...</td>\n",
              "    </tr>\n",
              "    <tr>\n",
              "      <th>1</th>\n",
              "      <td>47018159</td>\n",
              "      <td>1</td>\n",
              "      <td>47038356.0</td>\n",
              "      <td>NaN</td>\n",
              "      <td>2017-10-30 14:48:26</td>\n",
              "      <td>NaN</td>\n",
              "      <td>6</td>\n",
              "      <td>11290.0</td>\n",
              "      <td>&lt;p&gt;I've tried many of the solutions given on S...</td>\n",
              "      <td>7937441</td>\n",
              "      <td>NaN</td>\n",
              "      <td>7937441.0</td>\n",
              "      <td>NaN</td>\n",
              "      <td>2017-10-31 14:55:29</td>\n",
              "      <td>2020-05-19 14:29:46</td>\n",
              "      <td>Spring Boot/H2 Console not showing my table</td>\n",
              "      <td>&lt;spring&gt;&lt;spring-boot&gt;&lt;h2&gt;</td>\n",
              "      <td>7.0</td>\n",
              "      <td>0</td>\n",
              "      <td>2.0</td>\n",
              "      <td>NaN</td>\n",
              "      <td>NaN</td>\n",
              "      <td>7937441</td>\n",
              "      <td>1431</td>\n",
              "      <td>114</td>\n",
              "      <td>79</td>\n",
              "      <td>1</td>\n",
              "      <td></td>\n",
              "      <td>I've tried many of the solutions given on Stac...</td>\n",
              "    </tr>\n",
              "    <tr>\n",
              "      <th>2</th>\n",
              "      <td>33795535</td>\n",
              "      <td>1</td>\n",
              "      <td>33795595.0</td>\n",
              "      <td>NaN</td>\n",
              "      <td>2015-11-19 04:55:45</td>\n",
              "      <td>NaN</td>\n",
              "      <td>1</td>\n",
              "      <td>174.0</td>\n",
              "      <td>&lt;p&gt;The idea is to create a class that can chec...</td>\n",
              "      <td>5579563</td>\n",
              "      <td>NaN</td>\n",
              "      <td>2393267.0</td>\n",
              "      <td>NaN</td>\n",
              "      <td>2015-11-19 05:20:49</td>\n",
              "      <td>2015-11-22 12:08:33</td>\n",
              "      <td>Implementing a Class Called Average as a Subcl...</td>\n",
              "      <td>&lt;python&gt;&lt;list&gt;&lt;class&gt;&lt;average&gt;</td>\n",
              "      <td>6.0</td>\n",
              "      <td>6</td>\n",
              "      <td>NaN</td>\n",
              "      <td>NaN</td>\n",
              "      <td>NaN</td>\n",
              "      <td>5579563</td>\n",
              "      <td>31</td>\n",
              "      <td>39</td>\n",
              "      <td>1</td>\n",
              "      <td>0</td>\n",
              "      <td></td>\n",
              "      <td>The idea is to create a class that can check i...</td>\n",
              "    </tr>\n",
              "    <tr>\n",
              "      <th>3</th>\n",
              "      <td>43497560</td>\n",
              "      <td>1</td>\n",
              "      <td>43497727.0</td>\n",
              "      <td>NaN</td>\n",
              "      <td>2017-04-19 13:44:38</td>\n",
              "      <td>NaN</td>\n",
              "      <td>2</td>\n",
              "      <td>6629.0</td>\n",
              "      <td>&lt;p&gt;I'm looking for handle my &lt;code&gt;Bootstrap n...</td>\n",
              "      <td>7473847</td>\n",
              "      <td>NaN</td>\n",
              "      <td>-1.0</td>\n",
              "      <td>NaN</td>\n",
              "      <td>2017-05-23 12:03:02</td>\n",
              "      <td>2017-04-19 21:01:44</td>\n",
              "      <td>Center Bootstrap navbar title</td>\n",
              "      <td>&lt;html&gt;&lt;css&gt;&lt;twitter-bootstrap&gt;</td>\n",
              "      <td>7.0</td>\n",
              "      <td>2</td>\n",
              "      <td>NaN</td>\n",
              "      <td>NaN</td>\n",
              "      <td>NaN</td>\n",
              "      <td>7473847</td>\n",
              "      <td>4996</td>\n",
              "      <td>914</td>\n",
              "      <td>617</td>\n",
              "      <td>219</td>\n",
              "      <td></td>\n",
              "      <td>I'm looking for handle my Bootstrap navbar tit...</td>\n",
              "    </tr>\n",
              "    <tr>\n",
              "      <th>4</th>\n",
              "      <td>41213215</td>\n",
              "      <td>1</td>\n",
              "      <td>41223040.0</td>\n",
              "      <td>NaN</td>\n",
              "      <td>2016-12-18 21:45:18</td>\n",
              "      <td>NaN</td>\n",
              "      <td>13</td>\n",
              "      <td>25987.0</td>\n",
              "      <td>&lt;p&gt;So I've setup webpack and &lt;code&gt;webpack-dev...</td>\n",
              "      <td>2525699</td>\n",
              "      <td>NaN</td>\n",
              "      <td>2525699.0</td>\n",
              "      <td>NaN</td>\n",
              "      <td>2016-12-18 21:52:00</td>\n",
              "      <td>2020-11-04 21:00:09</td>\n",
              "      <td>Webpack dev server not auto-reloading</td>\n",
              "      <td>&lt;javascript&gt;&lt;webpack&gt;&lt;webpack-dev-server&gt;</td>\n",
              "      <td>7.0</td>\n",
              "      <td>0</td>\n",
              "      <td>2.0</td>\n",
              "      <td>NaN</td>\n",
              "      <td>NaN</td>\n",
              "      <td>2525699</td>\n",
              "      <td>3864</td>\n",
              "      <td>205</td>\n",
              "      <td>330</td>\n",
              "      <td>266</td>\n",
              "      <td></td>\n",
              "      <td>So I've setup webpack and webpack-dev-server, ...</td>\n",
              "    </tr>\n",
              "  </tbody>\n",
              "</table>\n",
              "</div>"
            ],
            "text/plain": [
              "         Id  ...                                               Text\n",
              "0   8019330  ...  My lines:\\nABC: XYZ\\nXYZ ABC: XYZ\\nXYZ:\\nABC\\n...\n",
              "1  47018159  ...  I've tried many of the solutions given on Stac...\n",
              "2  33795535  ...  The idea is to create a class that can check i...\n",
              "3  43497560  ...  I'm looking for handle my Bootstrap navbar tit...\n",
              "4  41213215  ...  So I've setup webpack and webpack-dev-server, ...\n",
              "\n",
              "[5 rows x 29 columns]"
            ]
          },
          "metadata": {},
          "execution_count": 39
        }
      ]
    },
    {
      "cell_type": "code",
      "source": [
        "df5['Text']=df5['Text'].str.lower()\n",
        "df5.head(5)"
      ],
      "metadata": {
        "id": "O3TeZQw6yQF4",
        "colab": {
          "base_uri": "https://localhost:8080/",
          "height": 521
        },
        "outputId": "e588b32e-ada0-4664-ece4-0f820da4c56b"
      },
      "execution_count": null,
      "outputs": [
        {
          "output_type": "execute_result",
          "data": {
            "text/html": [
              "<div>\n",
              "<style scoped>\n",
              "    .dataframe tbody tr th:only-of-type {\n",
              "        vertical-align: middle;\n",
              "    }\n",
              "\n",
              "    .dataframe tbody tr th {\n",
              "        vertical-align: top;\n",
              "    }\n",
              "\n",
              "    .dataframe thead th {\n",
              "        text-align: right;\n",
              "    }\n",
              "</style>\n",
              "<table border=\"1\" class=\"dataframe\">\n",
              "  <thead>\n",
              "    <tr style=\"text-align: right;\">\n",
              "      <th></th>\n",
              "      <th>Id</th>\n",
              "      <th>PostTypeId</th>\n",
              "      <th>AcceptedAnswerId</th>\n",
              "      <th>ParentId</th>\n",
              "      <th>CreationDate</th>\n",
              "      <th>DeletionDate</th>\n",
              "      <th>Score</th>\n",
              "      <th>ViewCount</th>\n",
              "      <th>Body</th>\n",
              "      <th>OwnerUserId</th>\n",
              "      <th>OwnerDisplayName</th>\n",
              "      <th>LastEditorUserId</th>\n",
              "      <th>LastEditorDisplayName</th>\n",
              "      <th>LastEditDate</th>\n",
              "      <th>LastActivityDate</th>\n",
              "      <th>Title</th>\n",
              "      <th>Tags</th>\n",
              "      <th>AnswerCount</th>\n",
              "      <th>CommentCount</th>\n",
              "      <th>FavoriteCount</th>\n",
              "      <th>ClosedDate</th>\n",
              "      <th>CommunityOwnedDate</th>\n",
              "      <th>Id_1</th>\n",
              "      <th>Reputation</th>\n",
              "      <th>Views</th>\n",
              "      <th>UpVotes</th>\n",
              "      <th>DownVotes</th>\n",
              "      <th>Quality</th>\n",
              "      <th>Text</th>\n",
              "    </tr>\n",
              "  </thead>\n",
              "  <tbody>\n",
              "    <tr>\n",
              "      <th>0</th>\n",
              "      <td>8019330</td>\n",
              "      <td>1</td>\n",
              "      <td>8019355.0</td>\n",
              "      <td>NaN</td>\n",
              "      <td>2011-11-05 09:35:01</td>\n",
              "      <td>NaN</td>\n",
              "      <td>-1</td>\n",
              "      <td>246.0</td>\n",
              "      <td>&lt;p&gt;My lines:&lt;/p&gt;\\n\\n&lt;pre&gt;&lt;code&gt;ABC: XYZ\\nXYZ A...</td>\n",
              "      <td>935420</td>\n",
              "      <td>NaN</td>\n",
              "      <td>100754.0</td>\n",
              "      <td>NaN</td>\n",
              "      <td>2011-11-05 13:41:37</td>\n",
              "      <td>2011-11-07 12:49:32</td>\n",
              "      <td>In Perl, how can I join an input line with the...</td>\n",
              "      <td>&lt;perl&gt;</td>\n",
              "      <td>6.0</td>\n",
              "      <td>4</td>\n",
              "      <td>NaN</td>\n",
              "      <td>NaN</td>\n",
              "      <td>NaN</td>\n",
              "      <td>935420</td>\n",
              "      <td>103</td>\n",
              "      <td>31</td>\n",
              "      <td>0</td>\n",
              "      <td>0</td>\n",
              "      <td></td>\n",
              "      <td>my lines:\\nabc: xyz\\nxyz abc: xyz\\nxyz:\\nabc\\n...</td>\n",
              "    </tr>\n",
              "    <tr>\n",
              "      <th>1</th>\n",
              "      <td>47018159</td>\n",
              "      <td>1</td>\n",
              "      <td>47038356.0</td>\n",
              "      <td>NaN</td>\n",
              "      <td>2017-10-30 14:48:26</td>\n",
              "      <td>NaN</td>\n",
              "      <td>6</td>\n",
              "      <td>11290.0</td>\n",
              "      <td>&lt;p&gt;I've tried many of the solutions given on S...</td>\n",
              "      <td>7937441</td>\n",
              "      <td>NaN</td>\n",
              "      <td>7937441.0</td>\n",
              "      <td>NaN</td>\n",
              "      <td>2017-10-31 14:55:29</td>\n",
              "      <td>2020-05-19 14:29:46</td>\n",
              "      <td>Spring Boot/H2 Console not showing my table</td>\n",
              "      <td>&lt;spring&gt;&lt;spring-boot&gt;&lt;h2&gt;</td>\n",
              "      <td>7.0</td>\n",
              "      <td>0</td>\n",
              "      <td>2.0</td>\n",
              "      <td>NaN</td>\n",
              "      <td>NaN</td>\n",
              "      <td>7937441</td>\n",
              "      <td>1431</td>\n",
              "      <td>114</td>\n",
              "      <td>79</td>\n",
              "      <td>1</td>\n",
              "      <td></td>\n",
              "      <td>i've tried many of the solutions given on stac...</td>\n",
              "    </tr>\n",
              "    <tr>\n",
              "      <th>2</th>\n",
              "      <td>33795535</td>\n",
              "      <td>1</td>\n",
              "      <td>33795595.0</td>\n",
              "      <td>NaN</td>\n",
              "      <td>2015-11-19 04:55:45</td>\n",
              "      <td>NaN</td>\n",
              "      <td>1</td>\n",
              "      <td>174.0</td>\n",
              "      <td>&lt;p&gt;The idea is to create a class that can chec...</td>\n",
              "      <td>5579563</td>\n",
              "      <td>NaN</td>\n",
              "      <td>2393267.0</td>\n",
              "      <td>NaN</td>\n",
              "      <td>2015-11-19 05:20:49</td>\n",
              "      <td>2015-11-22 12:08:33</td>\n",
              "      <td>Implementing a Class Called Average as a Subcl...</td>\n",
              "      <td>&lt;python&gt;&lt;list&gt;&lt;class&gt;&lt;average&gt;</td>\n",
              "      <td>6.0</td>\n",
              "      <td>6</td>\n",
              "      <td>NaN</td>\n",
              "      <td>NaN</td>\n",
              "      <td>NaN</td>\n",
              "      <td>5579563</td>\n",
              "      <td>31</td>\n",
              "      <td>39</td>\n",
              "      <td>1</td>\n",
              "      <td>0</td>\n",
              "      <td></td>\n",
              "      <td>the idea is to create a class that can check i...</td>\n",
              "    </tr>\n",
              "    <tr>\n",
              "      <th>3</th>\n",
              "      <td>43497560</td>\n",
              "      <td>1</td>\n",
              "      <td>43497727.0</td>\n",
              "      <td>NaN</td>\n",
              "      <td>2017-04-19 13:44:38</td>\n",
              "      <td>NaN</td>\n",
              "      <td>2</td>\n",
              "      <td>6629.0</td>\n",
              "      <td>&lt;p&gt;I'm looking for handle my &lt;code&gt;Bootstrap n...</td>\n",
              "      <td>7473847</td>\n",
              "      <td>NaN</td>\n",
              "      <td>-1.0</td>\n",
              "      <td>NaN</td>\n",
              "      <td>2017-05-23 12:03:02</td>\n",
              "      <td>2017-04-19 21:01:44</td>\n",
              "      <td>Center Bootstrap navbar title</td>\n",
              "      <td>&lt;html&gt;&lt;css&gt;&lt;twitter-bootstrap&gt;</td>\n",
              "      <td>7.0</td>\n",
              "      <td>2</td>\n",
              "      <td>NaN</td>\n",
              "      <td>NaN</td>\n",
              "      <td>NaN</td>\n",
              "      <td>7473847</td>\n",
              "      <td>4996</td>\n",
              "      <td>914</td>\n",
              "      <td>617</td>\n",
              "      <td>219</td>\n",
              "      <td></td>\n",
              "      <td>i'm looking for handle my bootstrap navbar tit...</td>\n",
              "    </tr>\n",
              "    <tr>\n",
              "      <th>4</th>\n",
              "      <td>41213215</td>\n",
              "      <td>1</td>\n",
              "      <td>41223040.0</td>\n",
              "      <td>NaN</td>\n",
              "      <td>2016-12-18 21:45:18</td>\n",
              "      <td>NaN</td>\n",
              "      <td>13</td>\n",
              "      <td>25987.0</td>\n",
              "      <td>&lt;p&gt;So I've setup webpack and &lt;code&gt;webpack-dev...</td>\n",
              "      <td>2525699</td>\n",
              "      <td>NaN</td>\n",
              "      <td>2525699.0</td>\n",
              "      <td>NaN</td>\n",
              "      <td>2016-12-18 21:52:00</td>\n",
              "      <td>2020-11-04 21:00:09</td>\n",
              "      <td>Webpack dev server not auto-reloading</td>\n",
              "      <td>&lt;javascript&gt;&lt;webpack&gt;&lt;webpack-dev-server&gt;</td>\n",
              "      <td>7.0</td>\n",
              "      <td>0</td>\n",
              "      <td>2.0</td>\n",
              "      <td>NaN</td>\n",
              "      <td>NaN</td>\n",
              "      <td>2525699</td>\n",
              "      <td>3864</td>\n",
              "      <td>205</td>\n",
              "      <td>330</td>\n",
              "      <td>266</td>\n",
              "      <td></td>\n",
              "      <td>so i've setup webpack and webpack-dev-server, ...</td>\n",
              "    </tr>\n",
              "  </tbody>\n",
              "</table>\n",
              "</div>"
            ],
            "text/plain": [
              "         Id  ...                                               Text\n",
              "0   8019330  ...  my lines:\\nabc: xyz\\nxyz abc: xyz\\nxyz:\\nabc\\n...\n",
              "1  47018159  ...  i've tried many of the solutions given on stac...\n",
              "2  33795535  ...  the idea is to create a class that can check i...\n",
              "3  43497560  ...  i'm looking for handle my bootstrap navbar tit...\n",
              "4  41213215  ...  so i've setup webpack and webpack-dev-server, ...\n",
              "\n",
              "[5 rows x 29 columns]"
            ]
          },
          "metadata": {},
          "execution_count": 40
        }
      ]
    }
  ],
  "metadata": {
    "accelerator": "GPU",
    "colab": {
      "collapsed_sections": [],
      "name": "LSTM_Data_Labelling.ipynb",
      "provenance": []
    },
    "kernelspec": {
      "display_name": "Python 3",
      "name": "python3"
    },
    "language_info": {
      "name": "python"
    }
  },
  "nbformat": 4,
  "nbformat_minor": 0
}